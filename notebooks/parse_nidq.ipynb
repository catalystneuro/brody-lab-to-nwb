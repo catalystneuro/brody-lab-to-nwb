{
 "cells": [
  {
   "cell_type": "markdown",
   "metadata": {},
   "source": [
    "# Parse NIDQ file to extract trial information"
   ]
  },
  {
   "cell_type": "code",
   "execution_count": null,
   "metadata": {},
   "outputs": [],
   "source": [
    "import spikeextractors as se\n",
    "import spikewidgets as sw\n",
    "import matplotlib.pyplot as plt\n",
    "import numpy as np\n",
    "%matplotlib notebook"
   ]
  },
  {
   "cell_type": "code",
   "execution_count": null,
   "metadata": {},
   "outputs": [],
   "source": [
    "nidq_file = \"/Users/abuccino/Documents/Data/catalyst/A256_2020_10_07_g0_t0.nidq.bin\""
   ]
  },
  {
   "cell_type": "code",
   "execution_count": null,
   "metadata": {},
   "outputs": [],
   "source": [
    "rec_nidq = se.SpikeGLXRecordingExtractor(nidq_file)\n",
    "fs = rec_nidq.get_sampling_frequency()"
   ]
  },
  {
   "cell_type": "code",
   "execution_count": null,
   "metadata": {},
   "outputs": [],
   "source": [
    "def parse_event_info(nidq_file, n_bits=8):\n",
    "    \"\"\"\n",
    "    Parse nidq trace to extract event information\n",
    "    \n",
    "    Parameters\n",
    "    ----------\n",
    "    \n",
    "    nidq_file: Path\n",
    "        Path to nidq file .bin\n",
    "    n_bits: int\n",
    "        Number of bits in digital word (default 8)\n",
    "        \n",
    "    Returns\n",
    "    -------\n",
    "    events: dict\n",
    "        Dictionary with channel id as key and a dictionary with\n",
    "        'frames' and 'states' as values\n",
    "    \"\"\"\n",
    "    rec_nidq = se.SpikeGLXRecordingExtractor(nidq_file)\n",
    "    fs = rec_nidq.get_sampling_frequency()\n",
    "    traces = rec_nidq.get_traces()[0] # only one trace\n",
    "    \n",
    "    # get LSB (least significant bit)\n",
    "    lsb = np.unique(traces)[1]\n",
    "    traces_int = (traces / lsb).astype(int)\n",
    "    \n",
    "    # extract events\n",
    "    events = {}\n",
    "    channels = np.arange(0, n_bits, dtype=int)\n",
    "    for chan in channels:\n",
    "        chan_bin = 2**chan\n",
    "        bit_mask = np.bitwise_and(traces_int, chan_bin)\n",
    "        high_idxs = (bit_mask == chan_bin).astype(int)\n",
    "        \n",
    "        if len(np.where(high_idxs != 0)[0]) > 0:\n",
    "            print(f\"Found events for channel {chan}\")\n",
    "            events[chan] = {}\n",
    "            rising = np.where(np.diff(high_idxs) > 0)[0]\n",
    "            falling = np.where(np.diff(high_idxs) < 0)[0]  \n",
    "            state = np.array([1] * len(rising) + [-1] * len(falling))\n",
    "\n",
    "            ttl = np.concatenate((rising, falling))\n",
    "            ttl_order = np.argsort(ttl)\n",
    "            ttl = ttl[ttl_order]\n",
    "            state = state[ttl_order]\n",
    "\n",
    "            events[chan]['frames'] = ttl\n",
    "            events[chan]['states'] = state\n",
    "        \n",
    "    return events"
   ]
  },
  {
   "cell_type": "code",
   "execution_count": null,
   "metadata": {},
   "outputs": [],
   "source": [
    "events = parse_event_info(nidq_file)"
   ]
  },
  {
   "cell_type": "markdown",
   "metadata": {},
   "source": [
    "## Display events"
   ]
  },
  {
   "cell_type": "code",
   "execution_count": null,
   "metadata": {},
   "outputs": [],
   "source": [
    "for ev, values in events.items():\n",
    "    print(f\"Channel {ev}: {len(values['frames'])} events\")"
   ]
  },
  {
   "cell_type": "code",
   "execution_count": null,
   "metadata": {},
   "outputs": [],
   "source": [
    "end_frame = fs*40"
   ]
  },
  {
   "cell_type": "code",
   "execution_count": null,
   "metadata": {},
   "outputs": [],
   "source": [
    "plt.figure()\n",
    "timestamps = rec_nidq.frame_to_time(np.arange(end_frame-1))\n",
    "plt.plot(timestamps, rec_nidq.get_traces(end_frame=end_frame)[0])\n",
    "\n",
    "for event_channel, ttls in events.items():\n",
    "    ttl = ttls[\"frames\"]\n",
    "    states = ttls[\"states\"]\n",
    "    rising = ttl[states==1]\n",
    "    rising_ = rising[rising < end_frame]\n",
    "    for r in rising_:\n",
    "        plt.axvline(timestamps[r], color=f\"C{event_channel}\", ls=\"--\")"
   ]
  }
 ],
 "metadata": {
  "kernelspec": {
   "display_name": "Python 3",
   "language": "python",
   "name": "python3"
  },
  "language_info": {
   "codemirror_mode": {
    "name": "ipython",
    "version": 3
   },
   "file_extension": ".py",
   "mimetype": "text/x-python",
   "name": "python",
   "nbconvert_exporter": "python",
   "pygments_lexer": "ipython3",
   "version": "3.8.5"
  }
 },
 "nbformat": 4,
 "nbformat_minor": 4
}
