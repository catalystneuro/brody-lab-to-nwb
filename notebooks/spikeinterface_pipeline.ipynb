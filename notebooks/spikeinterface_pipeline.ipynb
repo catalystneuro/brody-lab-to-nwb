{
 "cells": [
  {
   "cell_type": "markdown",
   "metadata": {},
   "source": [
    "# SpikeInterface pipeline for Brody Lab"
   ]
  },
  {
   "cell_type": "code",
   "execution_count": null,
   "metadata": {},
   "outputs": [],
   "source": [
    "from pathlib import Path\n",
    "import numpy as np\n",
    "import matplotlib.pyplot as plt\n",
    "from pprint import pprint\n",
    "\n",
    "import spikeextractors as se  # for reading raw data\n",
    "import spiketoolkit as st  # pre- and post- processed, validation, and curation\n",
    "import spikesorters as ss\n",
    "import spikecomparison as sc  # ensemble sorting and spike train comparisons\n",
    "import spikewidgets as sw  # visualizations\n",
    "\n",
    "from brody_lab_to_nwb import make_extractor\n",
    "\n",
    "%matplotlib notebook"
   ]
  },
  {
   "cell_type": "markdown",
   "metadata": {},
   "source": [
    "### Set global paramaters"
   ]
  },
  {
   "cell_type": "code",
   "execution_count": null,
   "metadata": {},
   "outputs": [],
   "source": [
    "n_jobs = 4  # Jobs for parallelization\n",
    "chunk_mb = 2000  # RAM per job\n",
    "\n",
    "verbose = True\n",
    "use_memmap = False  # Enable memmap caching (recommended for Linux/macOS)"
   ]
  },
  {
   "cell_type": "markdown",
   "metadata": {},
   "source": [
    "## 1a) Load AP recordings, LF recordings"
   ]
  },
  {
   "cell_type": "markdown",
   "metadata": {},
   "source": [
    "### Choose one of the following formats"
   ]
  },
  {
   "cell_type": "code",
   "execution_count": null,
   "metadata": {},
   "outputs": [],
   "source": [
    "base_path = Path(\"D:/Brody\")\n",
    "\n",
    "spikeglx_folder_name = \"A242_2019_05_30\"  # or A256_2020_10_07, T219_2019_11_22\n",
    "spikeglx_session_name = \"2019-05-30_g0\"  # usually the same as spikeglx_folder_path, except for A242\n",
    "spikeglx_file_path = (\n",
    "    base_path / \"Chronic Rat Neuropixels (Poisson Clicks Task)\" / spikeglx_folder_name / \"Raw\" \n",
    "    / spikeglx_session_name / f\"{spikeglx_session_name}_imec0\" / f\"{spikeglx_session_name}_t0.imec0.ap.bin\"\n",
    ")\n",
    "\n",
    "spikegadgets_session_name = \"W122_06_09_2019_1_fromSD\"  # or W122_09_02_2019_1_fromSD\n",
    "spikegadgets_file_path = base_path / \"WirelessTetrodes\" / f\"{spikegadgets_session_name}.rec\"\n",
    "\n",
    "neuralynx_session_name = \"A182_2018_10_05\"  # A182_2018_10_05 or K236_2017_09_06\n",
    "neuralynx_folder_path = base_path / \"Neuralynx Tetrode Data\" / neuralynx_session_name / \"Raw\""
   ]
  },
  {
   "cell_type": "markdown",
   "metadata": {},
   "source": [
    "### Make spikeinterface folders"
   ]
  },
  {
   "cell_type": "code",
   "execution_count": null,
   "metadata": {},
   "outputs": [],
   "source": [
    "recording_folder = spikeglx_file_path.parent\n",
    "spikeinterface_folder = recording_folder / \"spikeinterface\"\n",
    "spikeinterface_folder.mkdir(parents=True, exist_ok=True)"
   ]
  },
  {
   "cell_type": "markdown",
   "metadata": {},
   "source": [
    "### (optional) stub recording for fast testing; set to False for running processing pipeline on entire data"
   ]
  },
  {
   "cell_type": "code",
   "execution_count": null,
   "metadata": {},
   "outputs": [],
   "source": [
    "stub_test = True\n",
    "nsec_stub = 30  # seconds"
   ]
  },
  {
   "cell_type": "markdown",
   "metadata": {},
   "source": [
    "### Make RecordingExtractor"
   ]
  },
  {
   "cell_type": "code",
   "execution_count": null,
   "metadata": {},
   "outputs": [],
   "source": [
    "recording = make_extractor(file_or_folder_path=spikegadgets_file_path)\n",
    "\n",
    "if stub_test:\n",
    "    recording = se.SubRecordingExtractor(recording, end_frame=int(nsec_stub*recording.get_sampling_frequency()))"
   ]
  },
  {
   "cell_type": "code",
   "execution_count": null,
   "metadata": {},
   "outputs": [],
   "source": [
    "print(f\"Sampling frequency AP: {recording.get_sampling_frequency()}\")"
   ]
  },
  {
   "cell_type": "markdown",
   "metadata": {},
   "source": [
    "### Inspect signals"
   ]
  },
  {
   "cell_type": "code",
   "execution_count": null,
   "metadata": {},
   "outputs": [],
   "source": [
    "w_ts_ap = sw.plot_timeseries(recording_ap, channel_ids=recording_ap.get_channel_ids()[::10], trange=[1, 5])"
   ]
  },
  {
   "cell_type": "code",
   "execution_count": null,
   "metadata": {},
   "outputs": [],
   "source": [
    "w_ts_lf = sw.plot_timeseries(recording_lf, channel_ids=recording_lf.get_channel_ids()[::10])"
   ]
  },
  {
   "cell_type": "markdown",
   "metadata": {},
   "source": [
    "## 2) Pre-processing"
   ]
  },
  {
   "cell_type": "code",
   "execution_count": null,
   "metadata": {},
   "outputs": [],
   "source": [
    "apply_bandpass = True\n",
    "apply_cmr = False  # Temporary until fix on spiketoolkits for SpikeGLX only"
   ]
  },
  {
   "cell_type": "code",
   "execution_count": null,
   "metadata": {},
   "outputs": [],
   "source": [
    "if apply_bandpass:\n",
    "    recording_processed = st.preprocessing.bandpass_filter(recording_ap)\n",
    "else:\n",
    "    recording_processed = recording_ap\n",
    "\n",
    "if apply_cmr:\n",
    "    recording_processed = st.preprocessing.common_reference(recording_processed)\n",
    "else:\n",
    "    recording_processed = recording_processed"
   ]
  },
  {
   "cell_type": "code",
   "execution_count": null,
   "metadata": {},
   "outputs": [],
   "source": [
    "rates, amps = st.postprocessing.compute_channel_spiking_activity(\n",
    "    start_frame=0,\n",
    "    end_frame=recording_processed.get_num_frames(), \n",
    "    detect_threshold=5,\n",
    "    recompute_info=True,\n",
    "    recording=recording_processed,\n",
    "    n_jobs=n_jobs,\n",
    "    chunk_mb=chunk_mb,\n",
    "    verbose=verbose\n",
    ")"
   ]
  },
  {
   "cell_type": "code",
   "execution_count": null,
   "metadata": {},
   "outputs": [],
   "source": [
    "fig, axs = plt.subplots(nrows=2)\n",
    "sw.plot_activity_map(recording_processed, activity=\"rate\", colorbar=True, ax=axs[0], transpose=True, colorbar_orientation=\"horizontal\")\n",
    "sw.plot_activity_map(recording_processed, activity=\"amplitude\", colorbar=True, ax=axs[1], transpose=True, colorbar_orientation=\"horizontal\")"
   ]
  },
  {
   "cell_type": "markdown",
   "metadata": {},
   "source": [
    "## 3) Run spike sorters"
   ]
  },
  {
   "cell_type": "code",
   "execution_count": null,
   "metadata": {},
   "outputs": [],
   "source": [
    "sorter_list = [\n",
    "    \"herdingspikes\",\n",
    "    \"tridesclous\",\n",
    "    #\"ironclust\",\n",
    "]\n",
    "\n",
    "#ss.IronClustSorter.set_ironclust_path(\"D:/GitHub/ironclust\")"
   ]
  },
  {
   "cell_type": "code",
   "execution_count": null,
   "metadata": {
    "scrolled": true
   },
   "outputs": [],
   "source": [
    "# Inspect sorter-specific parameters and defaults\n",
    "for sorter in sorter_list:\n",
    "    print(f\"{sorter} params description:\")\n",
    "    pprint(ss.get_params_description(sorter))\n",
    "    print(\"Default params:\")\n",
    "    pprint(ss.get_default_params(sorter))    "
   ]
  },
  {
   "cell_type": "code",
   "execution_count": null,
   "metadata": {},
   "outputs": [],
   "source": [
    "# user-specific parameters\n",
    "sorter_params = dict(\n",
    "    herdingspikes=dict(filter=False),\n",
    "    tridesclous=dict(n_jobs_bin=n_jobs, chunk_mb=chunk_mb)\n",
    "    #ironclust=dict(n_jobs_bin=n_jobs, chunk_mb=chunk_mb)\n",
    ")"
   ]
  },
  {
   "cell_type": "code",
   "execution_count": null,
   "metadata": {},
   "outputs": [],
   "source": [
    "sorting_outputs = ss.run_sorters(\n",
    "    sorter_list=sorter_list, \n",
    "    recording_dict_or_list=dict(rec0=recording_processed),\n",
    "    working_folder=spikeinterface_folder / \"working1\",\n",
    "    mode=\"keep\", # change to \"keep\" to avoid repeating the spike sorting\n",
    "    sorter_params=sorter_params,\n",
    "    verbose=verbose,\n",
    "    run_sorter_kwargs=dict(raise_error=False)\n",
    ")"
   ]
  },
  {
   "cell_type": "code",
   "execution_count": null,
   "metadata": {},
   "outputs": [],
   "source": [
    "for result_name, sorting in sorting_outputs.items():\n",
    "    rec_name, sorter = result_name\n",
    "    print(f\"{sorter} found {len(sorting.get_unit_ids())} units\")\n",
    "    \n",
    "    # tridesclous sometimes has empty clusters\n",
    "    active_units = []\n",
    "    for u in sorting.get_unit_ids():\n",
    "        if len(sorting.get_unit_spike_train(u)) > 0:\n",
    "            active_units.append(u)\n",
    "    \n",
    "    if len(active_units) < len(sorting.get_unit_ids()):\n",
    "        sorting_outputs[result_name] = se.SubSortingExtractor(sorting, unit_ids=active_units)\n",
    "        print(f\"{sorter} found {len(active_units)} units after removing empty\")"
   ]
  },
  {
   "cell_type": "markdown",
   "metadata": {},
   "source": [
    "## 4) Post-processing: extract waveforms, templates, quality metrics, extracellular features"
   ]
  },
  {
   "cell_type": "markdown",
   "metadata": {
    "pycharm": {
     "name": "#%% md\n"
    }
   },
   "source": [
    "### Set quality metric list\n",
    "#### Reference: https://allensdk.readthedocs.io/en/latest/_static/examples/nb/ecephys_quality_metrics.html"
   ]
  },
  {
   "cell_type": "code",
   "execution_count": null,
   "metadata": {},
   "outputs": [],
   "source": [
    "print(f\"Available quality metrics: {st.validation.get_quality_metrics_list()}\")"
   ]
  },
  {
   "cell_type": "code",
   "execution_count": null,
   "metadata": {
    "pycharm": {
     "name": "#%%\n"
    }
   },
   "outputs": [],
   "source": [
    "# Specify a subset of these metrics\n",
    "qm_list = ['snr', 'isi_violation', 'firing_rate']"
   ]
  },
  {
   "cell_type": "markdown",
   "metadata": {
    "pycharm": {
     "name": "#%% md\n"
    }
   },
   "source": [
    "### Set extracellular features\n",
    "#### Reference: https://github.com/AllenInstitute/ecephys_spike_sorting/tree/master/ecephys_spike_sorting/modules/mean_waveforms"
   ]
  },
  {
   "cell_type": "code",
   "execution_count": null,
   "metadata": {},
   "outputs": [],
   "source": [
    "print(f\"Available quality metrics: {st.postprocessing.get_template_features_list()}\")"
   ]
  },
  {
   "cell_type": "code",
   "execution_count": null,
   "metadata": {
    "pycharm": {
     "name": "#%%\n"
    }
   },
   "outputs": [],
   "source": [
    "# Specify a subset of these features\n",
    "ecf_list = ['peak_to_valley', 'halfwidth']"
   ]
  },
  {
   "cell_type": "markdown",
   "metadata": {
    "pycharm": {
     "name": "#%% md\n"
    }
   },
   "source": [
    "### Set postprocessing parameters"
   ]
  },
  {
   "cell_type": "code",
   "execution_count": null,
   "metadata": {},
   "outputs": [],
   "source": [
    "postprocessing_params = st.postprocessing.get_postprocessing_params()\n",
    "pprint(f\"Default parameters: {postprocessing_params}\")"
   ]
  },
  {
   "cell_type": "code",
   "execution_count": null,
   "metadata": {
    "pycharm": {
     "name": "#%%\n"
    }
   },
   "outputs": [],
   "source": [
    "postprocessing_params['max_spikes_per_unit'] = 1000  # with None, all waveforms are extracted\n",
    "postprocessing_params['n_jobs'] = n_jobs\n",
    "postprocessing_params['chunk_mb'] = chunk_mb\n",
    "postprocessing_params['verbose'] = verbose\n",
    "postprocessing_params['recompute_info'] = True\n",
    "postprocessing_params['memmap'] = use_memmap\n",
    "\n",
    "export_to_phy = False"
   ]
  },
  {
   "cell_type": "markdown",
   "metadata": {
    "pycharm": {
     "name": "#%% md\n"
    }
   },
   "source": [
    "### Postprocess all sorting outputs"
   ]
  },
  {
   "cell_type": "code",
   "execution_count": null,
   "metadata": {
    "pycharm": {
     "name": "#%%\n"
    }
   },
   "outputs": [],
   "source": [
    "for result_name, sorting in sorting_outputs.items():\n",
    "    rec_name, sorter = result_name\n",
    "    print(f\"Postprocessing recording {rec_name} sorted with {sorter}\")\n",
    "    tmp_folder = spikeinterface_folder / 'tmp' / sorter\n",
    "    tmp_folder.mkdir(parents=True, exist_ok=True)\n",
    "    \n",
    "    # set local tmp folder\n",
    "    sorting.set_tmp_folder(tmp_folder)\n",
    "    \n",
    "    # compute waveforms\n",
    "    waveforms = st.postprocessing.get_unit_waveforms(recording_processed, sorting, **postprocessing_params)\n",
    "    \n",
    "    # compute templates\n",
    "    templates = st.postprocessing.get_unit_templates(recording_processed, sorting, **postprocessing_params)\n",
    "    \n",
    "    # compute metrics\n",
    "    qm = st.validation.compute_quality_metrics(\n",
    "        sorting,\n",
    "        recording=recording_processed, \n",
    "        metric_names=qm_list,\n",
    "        as_dataframe=True\n",
    "    )\n",
    "    \n",
    "    # compute features\n",
    "    ecf = st.postprocessing.compute_unit_template_features(\n",
    "        recording_processed,\n",
    "        sorting,\n",
    "        feature_names=ecf_list,\n",
    "        as_dataframe=True\n",
    "    )\n",
    "    \n",
    "    # export to phy - can be expensive, disable if not used\n",
    "    if export_to_phy:\n",
    "        phy_folder = spikeinterface_folder / 'phy' / sorter\n",
    "        phy_folder.mkdir(parents=True, exist_ok=True)\n",
    "        st.postprocessing.export_to_phy(\n",
    "            recording_processed,\n",
    "            sorting,\n",
    "            phy_folder,\n",
    "            compute_pc_features=False,\n",
    "            compute_amplitudes=False,\n",
    "            save_property_or_features=False\n",
    "        )"
   ]
  },
  {
   "cell_type": "code",
   "execution_count": null,
   "metadata": {},
   "outputs": [],
   "source": [
    "display(qm)"
   ]
  },
  {
   "cell_type": "code",
   "execution_count": null,
   "metadata": {},
   "outputs": [],
   "source": [
    "display(ecf)"
   ]
  },
  {
   "cell_type": "markdown",
   "metadata": {},
   "source": [
    "### Visualize templates"
   ]
  },
  {
   "cell_type": "code",
   "execution_count": null,
   "metadata": {},
   "outputs": [],
   "source": [
    "sorting_ic = sorting_outputs[(\"rec0\", \"herdingspikes\")]\n",
    "w = sw.plot_unit_templates(\n",
    "    recording_processed,\n",
    "    sorting_ic,\n",
    "    unit_ids=[0],\n",
    "    radius=100,  # This is spatial distance specifying channels around the unit - default is None\n",
    "    lw=0.5\n",
    ")\n",
    "#w.figure.set_size_inches((5,15))  # this can be handy if radius=None above, to give a better visual of probe laayout"
   ]
  },
  {
   "cell_type": "markdown",
   "metadata": {
    "pycharm": {
     "name": "#%% md\n"
    }
   },
   "source": [
    "### Run phy and load curated data\n",
    "\n",
    "####  Reference: https://phy.readthedocs.io/en/latest/"
   ]
  },
  {
   "cell_type": "code",
   "execution_count": null,
   "metadata": {},
   "outputs": [],
   "source": [
    "!phy template-gui spikeinterface/phy/ironclust/params.py"
   ]
  },
  {
   "cell_type": "code",
   "execution_count": null,
   "metadata": {},
   "outputs": [],
   "source": [
    "sorting_manual_curated = se.PhySortingExtractor(phy_folder, exclude_cluster_groups=['noise'])"
   ]
  },
  {
   "cell_type": "code",
   "execution_count": null,
   "metadata": {
    "pycharm": {
     "name": "#%%\n"
    }
   },
   "outputs": [],
   "source": [
    "print(f\"ironclust found {len(sorting_manual_curated.get_unit_ids())} units after manual curation\")"
   ]
  },
  {
   "cell_type": "markdown",
   "metadata": {
    "pycharm": {
     "name": "#%% md\n"
    }
   },
   "source": [
    "## 5) Ensemble spike sorting\n",
    "\n",
    "#### If using more than one spike sorter, this automated method has been shown to give similar results to manual curation under certain conditions: https://elifesciences.org/articles/61834"
   ]
  },
  {
   "cell_type": "code",
   "execution_count": null,
   "metadata": {
    "pycharm": {
     "name": "#%%\n"
    }
   },
   "outputs": [],
   "source": [
    "if len(sorting_outputs) > 1:\n",
    "    # retrieve sortings and sorter names\n",
    "    sorting_list = []\n",
    "    sorter_names_comp = []\n",
    "    for result_name, sorting in sorting_outputs.items():\n",
    "        rec_name, sorter = result_name\n",
    "        sorting_list.append(sorting)\n",
    "        sorter_names_comp.append(sorter)\n",
    "        \n",
    "    # run multisorting comparison\n",
    "    mcmp = sc.compare_multiple_sorters(sorting_list=sorting_list, name_list=sorter_names_comp)\n",
    "    \n",
    "    # plot agreement results\n",
    "    w_agr = sw.plot_multicomp_agreement(mcmp)\n",
    "    \n",
    "    # extract ensamble sorting\n",
    "    sorting_ensemble = mcmp.get_agreement_sorting(minimum_agreement_count=2)\n",
    "    \n",
    "    print(f\"Ensemble sorting among {sorter_list} found: {len(sorting_ensemble.get_unit_ids())} units\")\n",
    "    sw.plot_rasters(sorting_ensemble)"
   ]
  },
  {
   "cell_type": "markdown",
   "metadata": {
    "pycharm": {
     "name": "#%% md\n"
    }
   },
   "source": [
    "# 6) Automatic curation"
   ]
  },
  {
   "cell_type": "code",
   "execution_count": null,
   "metadata": {
    "pycharm": {
     "name": "#%%\n"
    }
   },
   "outputs": [],
   "source": [
    "firing_rate_threshold = 0.1\n",
    "isi_violation_threshold = 0.5\n",
    "snr_threshold = 3"
   ]
  },
  {
   "cell_type": "code",
   "execution_count": null,
   "metadata": {
    "pycharm": {
     "name": "#%%\n"
    }
   },
   "outputs": [],
   "source": [
    "sorting_auto_curated = []\n",
    "sorter_names_curation = []\n",
    "for result_name, sorting in sorting_outputs.items():\n",
    "    rec_name, sorter = result_name\n",
    "    sorter_names_curation.append(sorter)\n",
    "    \n",
    "    # firing rate threshold\n",
    "    sorting_curated = st.curation.threshold_firing_rates(\n",
    "        sorting,\n",
    "        duration_in_frames=recording_processed.get_num_frames(),\n",
    "        threshold=firing_rate_threshold, \n",
    "        threshold_sign='less'\n",
    "    )\n",
    "    print(f\"{sorter} found {len(sorting_curated.get_unit_ids())} units after thresholding firing rates\")\n",
    "    \n",
    "    # isi violation threshold\n",
    "    sorting_curated = st.curation.threshold_isi_violations(\n",
    "        sorting_curated,\n",
    "        duration_in_frames=recording_processed.get_num_frames(),\n",
    "        threshold=isi_violation_threshold, \n",
    "        threshold_sign='greater'\n",
    "    )\n",
    "    print(f\"{sorter} found {len(sorting_curated.get_unit_ids())} units after thresholding isi violations\")\n",
    "    \n",
    "    # snr threshold\n",
    "    sorting_curated = st.curation.threshold_snrs(\n",
    "        sorting_curated,\n",
    "        recording=recording_processed,\n",
    "        threshold=snr_threshold, \n",
    "        threshold_sign='less'\n",
    "    )\n",
    "    sorting_auto_curated.append(sorting_curated)\n",
    "    print(f\"{sorter} found {len(sorting_curated.get_unit_ids())} units after thresholding snr\")"
   ]
  },
  {
   "cell_type": "markdown",
   "metadata": {
    "pycharm": {
     "name": "#%% md\n"
    }
   },
   "source": [
    "# 7) Save to NWB; writes only the spikes"
   ]
  },
  {
   "cell_type": "code",
   "execution_count": null,
   "metadata": {},
   "outputs": [],
   "source": [
    "# The name of the NWBFile containing behavioral and/or full recording data\n",
    "nwbfile_path = base_path.parent / f\"Brody_PoissonClicks_{session_name}_full_autocurated.nwb\"\n",
    "\n",
    "# Choose the sorting extractor from the notebook environment you would like to write to NWB\n",
    "#chosen_sorting_extractor = sorting_outputs[(\"rec0\", \"tridesclous\")]\n",
    "chosen_sorting_extractor = sorting_curated\n",
    "\n",
    "se.NwbSortingExtractor.write_sorting(\n",
    "    sorting=chosen_sorting_extractor,\n",
    "    save_path=nwbfile_path,\n",
    "    overwrite=True,  # this appends the file. True would write a new file,\n",
    "    skip_features=[\"waveforms\"]\n",
    ")"
   ]
  },
  {
   "cell_type": "code",
   "execution_count": null,
   "metadata": {},
   "outputs": [],
   "source": []
  }
 ],
 "metadata": {
  "kernelspec": {
   "display_name": "Python 3",
   "language": "python",
   "name": "python3"
  },
  "language_info": {
   "codemirror_mode": {
    "name": "ipython",
    "version": 3
   },
   "file_extension": ".py",
   "mimetype": "text/x-python",
   "name": "python",
   "nbconvert_exporter": "python",
   "pygments_lexer": "ipython3",
   "version": "3.9.1"
  },
  "pycharm": {
   "stem_cell": {
    "cell_type": "raw",
    "metadata": {
     "collapsed": false
    },
    "source": []
   }
  }
 },
 "nbformat": 4,
 "nbformat_minor": 4
}
